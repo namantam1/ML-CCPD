{
 "cells": [
  {
   "cell_type": "code",
   "execution_count": 6,
   "metadata": {},
   "outputs": [],
   "source": [
    "import numpy as np\n",
    "from numpy import ndarray\n",
    "from numpy.linalg import inv\n"
   ]
  },
  {
   "cell_type": "markdown",
   "metadata": {},
   "source": [
    "### Lets take eqution as\n",
    "`y = 1 + x1 + 2.x2`"
   ]
  },
  {
   "cell_type": "code",
   "execution_count": 7,
   "metadata": {},
   "outputs": [
    {
     "name": "stdout",
     "output_type": "stream",
     "text": [
      "X : [[ 0  0]\n",
      " [ 1  1]\n",
      " [ 2  2]\n",
      " [ 3  4]\n",
      " [60  4]\n",
      " [ 5 52]\n",
      " [65 76]]\n",
      "y:  [  1   4   7  12  69 110 218]\n"
     ]
    }
   ],
   "source": [
    "# data\n",
    "\n",
    "def fun(X):\n",
    "    return 1 + X[:,0] + 2 * X[:,1]\n",
    "\n",
    "X = np.array([[0, 0],[1,1],[2,2],[3,4],[60,4],[5,52],[65,76]]) \n",
    "# X = np.array([[0,0],[1,1],[3,3],[4,4],[5,5],[6,6],[7,7],[8,8]]) give multiple solution in least square\n",
    "y = fun(X)\n",
    "\n",
    "print(\"X :\", X)\n",
    "print(\"y: \", y)"
   ]
  },
  {
   "cell_type": "code",
   "execution_count": 8,
   "metadata": {},
   "outputs": [
    {
     "name": "stdout",
     "output_type": "stream",
     "text": [
      "[1. 2.] 1.0000000000000142\n"
     ]
    },
    {
     "data": {
      "text/plain": [
       "1.0"
      ]
     },
     "execution_count": 8,
     "metadata": {},
     "output_type": "execute_result"
    }
   ],
   "source": [
    "from sklearn.metrics import r2_score\n",
    "\n",
    "class LeastSqr:\n",
    "    @property\n",
    "    def coef_(self):\n",
    "        return self.A[1:]\n",
    "\n",
    "    @property\n",
    "    def intercept_(self):\n",
    "        return self.A[0]\n",
    "\n",
    "    def score(self, X, y):\n",
    "        y_pred = self.predict(X)\n",
    "        return r2_score(y, y_pred)\n",
    "\n",
    "    def predict(self, x: ndarray):\n",
    "        x = np.column_stack((np.ones(x.shape[0]), x))\n",
    "\n",
    "        return x @ self.A\n",
    "\n",
    "    def fit(self, X: ndarray, y: ndarray):\n",
    "        X = np.column_stack((np.ones(X.shape[0]), X))\n",
    "        _, n = X.shape\n",
    "\n",
    "        sx = np.zeros([n, n])\n",
    "        for i in range(n):\n",
    "            for j in range(n):\n",
    "                sx[i, j] = (X[:, i]*X[:, j]).sum()\n",
    "\n",
    "        sy = np.zeros(n)\n",
    "        for i in range(n):\n",
    "            sy[i] = (X[:, i] * y).sum()\n",
    "\n",
    "        self.A = inv(sx) @ sy\n",
    "\n",
    "lst = LeastSqr()\n",
    "lst.fit(X, y)\n",
    "\n",
    "print(lst.coef_, lst.intercept_)\n",
    "lst.score(X, y)"
   ]
  },
  {
   "cell_type": "code",
   "execution_count": 9,
   "metadata": {},
   "outputs": [
    {
     "name": "stdout",
     "output_type": "stream",
     "text": [
      "[1. 2.] 1.0\n"
     ]
    },
    {
     "data": {
      "text/plain": [
       "1.0"
      ]
     },
     "execution_count": 9,
     "metadata": {},
     "output_type": "execute_result"
    }
   ],
   "source": [
    "from sklearn.linear_model import LinearRegression\n",
    "\n",
    "lin_reg = LinearRegression()\n",
    "lin_reg.fit(X, y)\n",
    "\n",
    "print(lin_reg.coef_, lin_reg.intercept_)\n",
    "lin_reg.score(X, y)"
   ]
  }
 ],
 "metadata": {
  "interpreter": {
   "hash": "004e3296fb33a75f912db67dfbc804ddcf50611225758f817e2dd7ebe1314606"
  },
  "kernelspec": {
   "display_name": "Python 3.7.9 ('.venv': venv)",
   "language": "python",
   "name": "python3"
  },
  "language_info": {
   "codemirror_mode": {
    "name": "ipython",
    "version": 3
   },
   "file_extension": ".py",
   "mimetype": "text/x-python",
   "name": "python",
   "nbconvert_exporter": "python",
   "pygments_lexer": "ipython3",
   "version": "3.7.9"
  },
  "orig_nbformat": 4
 },
 "nbformat": 4,
 "nbformat_minor": 2
}
