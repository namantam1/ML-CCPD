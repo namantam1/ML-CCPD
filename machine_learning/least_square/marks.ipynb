{
 "cells": [
  {
   "cell_type": "code",
   "execution_count": 6,
   "metadata": {},
   "outputs": [],
   "source": [
    "from matplotlib import pyplot as plt\n",
    "import numpy as np\n",
    "from single_var_least_square import LeastSqr\n",
    "from sklearn.metrics import r2_score"
   ]
  },
  {
   "cell_type": "code",
   "execution_count": 7,
   "metadata": {},
   "outputs": [],
   "source": [
    "x = np.array([5,8,7,10,10]) # No. of hours\n",
    "y = np.array([47,60,55,72,65]) # Final marks"
   ]
  },
  {
   "cell_type": "code",
   "execution_count": 8,
   "metadata": {},
   "outputs": [
    {
     "data": {
      "image/png": "[encoded data removed]",
      "text/plain": [
       "<Figure size 432x288 with 1 Axes>"
      ]
     },
     "metadata": {
      "needs_background": "light"
     },
     "output_type": "display_data"
    }
   ],
   "source": [
    "plt.scatter(x, y)\n",
    "plt.xlabel(\"No. of hours\")\n",
    "plt.ylabel(\"Final marks\")\n",
    "plt.show()"
   ]
  },
  {
   "cell_type": "code",
   "execution_count": 9,
   "metadata": {},
   "outputs": [
    {
     "name": "stdout",
     "output_type": "stream",
     "text": [
      "Coefficients:  [25.133333333333333, 4.333333333333333]\n",
      "Score:  0.9316427783902976\n"
     ]
    }
   ],
   "source": [
    "lsqr = LeastSqr(x, y)\n",
    "lsqr.train()\n",
    "\n",
    "y_pre = lsqr.test(x)\n",
    "\n",
    "\n",
    "print(\"Coefficients: \", lsqr.coff_)\n",
    "print(\"Score: \", r2_score(y, y_pre))"
   ]
  },
  {
   "cell_type": "markdown",
   "metadata": {},
   "source": [
    "# Now train using sklean function"
   ]
  },
  {
   "cell_type": "code",
   "execution_count": 10,
   "metadata": {},
   "outputs": [
    {
     "name": "stdout",
     "output_type": "stream",
     "text": [
      "Coeff:  25.13333333333334 [4.33333333]\n",
      "Score:  0.9316427783902976\n"
     ]
    }
   ],
   "source": [
    "from sklearn.linear_model import LinearRegression\n",
    "\n",
    "_x = np.array([x]).T # convert to 2d array i.e. [[1], [2], [3]]\n",
    "\n",
    "lin_reg = LinearRegression()\n",
    "lin_reg.fit(_x, y)\n",
    "\n",
    "\n",
    "print(\"Coeff: \", lin_reg.intercept_, lin_reg.coef_,)\n",
    "print(\"Score: \", lin_reg.score(_x, y))"
   ]
  }
 ],
 "metadata": {
  "interpreter": {
   "hash": "004e3296fb33a75f912db67dfbc804ddcf50611225758f817e2dd7ebe1314606"
  },
  "kernelspec": {
   "display_name": "Python 3.7.9 ('.venv': venv)",
   "language": "python",
   "name": "python3"
  },
  "language_info": {
   "codemirror_mode": {
    "name": "ipython",
    "version": 3
   },
   "file_extension": ".py",
   "mimetype": "text/x-python",
   "name": "python",
   "nbconvert_exporter": "python",
   "pygments_lexer": "ipython3",
   "version": "3.7.9"
  },
  "orig_nbformat": 4
 },
 "nbformat": 4,
 "nbformat_minor": 2
}
