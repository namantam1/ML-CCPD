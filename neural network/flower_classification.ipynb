{
 "cells": [
  {
   "cell_type": "code",
   "execution_count": 21,
   "metadata": {},
   "outputs": [],
   "source": [
    "from sklearn.datasets import load_iris\n",
    "from sklearn.model_selection import train_test_split"
   ]
  },
  {
   "cell_type": "code",
   "execution_count": 22,
   "metadata": {},
   "outputs": [],
   "source": [
    "data = load_iris()\n",
    "\n",
    "X, y = data[\"data\"], data[\"target\"]"
   ]
  },
  {
   "cell_type": "code",
   "execution_count": 26,
   "metadata": {},
   "outputs": [],
   "source": [
    "Y = y.reshape(y.size, 1)\n",
    "\n",
    "X_train, X_test, Y_train, Y_test = train_test_split(X, Y, test_size=0.2, random_state=0)"
   ]
  },
  {
   "cell_type": "code",
   "execution_count": 24,
   "metadata": {},
   "outputs": [],
   "source": [
    "import numpy as np\n",
    "\n",
    "class ANN:\n",
    "    def __init__(self, neurons=5, epochs=2000, lr=0.5):\n",
    "        self.hidden_layer_neurons = neurons\n",
    "        self.epochs = epochs\n",
    "        self.lr = lr\n",
    "\n",
    "    @staticmethod\n",
    "    def _sigmoid(k):\n",
    "        return 1/(1+np.exp(-k))\n",
    "\n",
    "    @staticmethod\n",
    "    def _sigmoid_derivative(k):\n",
    "        return k * (1 - k)\n",
    "\n",
    "    def fit(self, X, Y):\n",
    "        inp_layer, out_layer = X.shape[1], Y.shape[1]\n",
    "        hid_layer = self.hidden_layer_neurons\n",
    "        epochs, lr = self.epochs, self.lr\n",
    "\n",
    "        self.hid_weights = np.random.uniform(size=(inp_layer, hid_layer))\n",
    "        self.hid_bias = np.random.uniform(size=(1, hid_layer))\n",
    "\n",
    "        self.out_weights = np.random.uniform(size=(hid_layer, out_layer))\n",
    "        self.out_bias = np.random.uniform(size=(1, out_layer))\n",
    "\n",
    "        for _ in range(epochs):\n",
    "            # Forward propogation\n",
    "            hid_layer_out, predicted_out = self._predict(X)\n",
    "\n",
    "            # Backward propogation\n",
    "            error = Y - predicted_out\n",
    "            d_predicted_output = error * self._sigmoid_derivative(predicted_out)\n",
    "\n",
    "            error_hid_layer = d_predicted_output.dot(self.out_weights.T)\n",
    "            d_hid_layer = error_hid_layer * self._sigmoid_derivative(hid_layer_out)\n",
    "\n",
    "            # updating the weights and bias\n",
    "            self.out_weights += (hid_layer_out.T @ d_predicted_output) * lr\n",
    "            self.out_bias += np.sum(d_predicted_output, axis=0, keepdims=True) * lr\n",
    "            self.hid_weights += (X.T @ d_hid_layer)  * lr\n",
    "            self.hid_bias += np.sum(d_hid_layer, axis=0, keepdims=True) * lr\n",
    "        \n",
    "        return predicted_out\n",
    "\n",
    "\n",
    "    def _predict(self, X):\n",
    "        hid_layer_activation = (X @ self.hid_weights) + self.hid_bias\n",
    "        hid_layer_out = self._sigmoid(hid_layer_activation)\n",
    "\n",
    "        out_layer_activation = (hid_layer_out @ self.out_weights) + self.out_bias\n",
    "        predicted_out = self._sigmoid(out_layer_activation)\n",
    "        return hid_layer_out, predicted_out\n",
    "\n",
    "    def predict(self, X):\n",
    "        return self._predict(X)[1]\n"
   ]
  },
  {
   "cell_type": "code",
   "execution_count": 30,
   "metadata": {},
   "outputs": [
    {
     "name": "stdout",
     "output_type": "stream",
     "text": [
      "[[2]\n",
      " [1]\n",
      " [0]\n",
      " [2]\n",
      " [0]\n",
      " [2]\n",
      " [0]\n",
      " [1]\n",
      " [1]\n",
      " [1]\n",
      " [2]\n",
      " [1]\n",
      " [1]\n",
      " [1]\n",
      " [1]\n",
      " [0]\n",
      " [1]\n",
      " [1]\n",
      " [0]\n",
      " [0]\n",
      " [2]\n",
      " [1]\n",
      " [0]\n",
      " [0]\n",
      " [2]\n",
      " [0]\n",
      " [0]\n",
      " [1]\n",
      " [1]\n",
      " [0]] [[1.]\n",
      " [1.]\n",
      " [1.]\n",
      " [1.]\n",
      " [1.]\n",
      " [1.]\n",
      " [1.]\n",
      " [1.]\n",
      " [1.]\n",
      " [1.]\n",
      " [1.]\n",
      " [1.]\n",
      " [1.]\n",
      " [1.]\n",
      " [1.]\n",
      " [1.]\n",
      " [1.]\n",
      " [1.]\n",
      " [1.]\n",
      " [1.]\n",
      " [1.]\n",
      " [1.]\n",
      " [1.]\n",
      " [1.]\n",
      " [1.]\n",
      " [1.]\n",
      " [1.]\n",
      " [1.]\n",
      " [1.]\n",
      " [1.]]\n"
     ]
    }
   ],
   "source": [
    "ann = ANN(epochs=20000)\n",
    "\n",
    "ann.fit(X_train, Y_train)\n",
    "\n",
    "Y_pred = ann.predict(X_test)\n",
    "\n",
    "print(Y_test, Y_pred)"
   ]
  }
 ],
 "metadata": {
  "kernelspec": {
   "display_name": "Python 3.7.9 ('.venv': venv)",
   "language": "python",
   "name": "python3"
  },
  "language_info": {
   "codemirror_mode": {
    "name": "ipython",
    "version": 3
   },
   "file_extension": ".py",
   "mimetype": "text/x-python",
   "name": "python",
   "nbconvert_exporter": "python",
   "pygments_lexer": "ipython3",
   "version": "3.7.9"
  },
  "orig_nbformat": 4,
  "vscode": {
   "interpreter": {
    "hash": "004e3296fb33a75f912db67dfbc804ddcf50611225758f817e2dd7ebe1314606"
   }
  }
 },
 "nbformat": 4,
 "nbformat_minor": 2
}
